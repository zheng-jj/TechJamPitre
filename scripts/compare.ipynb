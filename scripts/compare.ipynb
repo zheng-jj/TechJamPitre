{
 "cells": [
  {
   "cell_type": "code",
   "execution_count": null,
   "id": "1b87775b",
   "metadata": {},
   "outputs": [],
   "source": [
    "import os\n",
    "from dotenv import load_dotenv\n",
    "from langchain_community.vectorstores import FAISS\n",
    "from langchain_openai import OpenAIEmbeddings\n",
    "from langchain_core.prompts import ChatPromptTemplate\n",
    "from langchain_openai import ChatOpenAI\n",
    "from langchain_core.output_parsers import StrOutputParser"
   ]
  },
  {
   "cell_type": "code",
   "execution_count": null,
   "id": "2d713839",
   "metadata": {},
   "outputs": [],
   "source": [
    "# Load environment variables\n",
    "load_dotenv()"
   ]
  },
  {
   "cell_type": "code",
   "execution_count": null,
   "id": "e73a2043",
   "metadata": {},
   "outputs": [],
   "source": [
    "# --- Configuration ---\n",
    "VECTOR_STORE_PATH = \"vector_store\"\n",
    "\n",
    "def format_docs(docs):\n",
    "    \"\"\"Helper function to format retrieved documents for the prompt context.\"\"\"\n",
    "    return \"\\n\\n\".join(\n",
    "        f\"Source: {doc.metadata.get('source_file', 'N/A')}\\nContent: {doc.page_content}\" \n",
    "        for doc in docs\n",
    "    )"
   ]
  },
  {
   "cell_type": "code",
   "execution_count": null,
   "id": "ad76dc0c",
   "metadata": {},
   "outputs": [],
   "source": [
    "def main():\n",
    "    \"\"\"Main function to run the comparison for a new feature.\"\"\"\n",
    "    if not os.path.exists(VECTOR_STORE_PATH):\n",
    "        print(\"Error: Vector store not found. Please run 'ingest.py' first.\")\n",
    "        return\n",
    "\n",
    "    # 1. Define the new feature to be analyzed\n",
    "    feature_description = (\n",
    "        \"Feature Name: User Activity Tracker. \"\n",
    "        \"This feature collects user click-stream data and location information to provide \"\n",
    "        \"personalized recommendations. All collected data is considered Personally Identifiable Information (PII).\"\n",
    "    )\n",
    "    print(f\"--- Analyzing New Feature ---\\n{feature_description}\\n-----------------------------\\n\")\n",
    "\n",
    "    # 2. Load the existing vector store and embedding model\n",
    "    embeddings = OpenAIEmbeddings()\n",
    "    vector_store = FAISS.load_local(VECTOR_STORE_PATH, embeddings, allow_dangerous_deserialization=True)\n",
    "    retriever = vector_store.as_retriever(search_kwargs={\"k\": 5}) # Retrieve top 5 relevant chunks\n",
    "\n",
    "    # 3. Define the prompt template for the LLM\n",
    "    prompt_template = \"\"\"\n",
    "    You are an expert legal compliance AI assistant. Your task is to analyze a new software feature \n",
    "    against a provided set of legal documents and identify potential compliance risks.\n",
    "\n",
    "    **New Feature Description:**\n",
    "    {feature_description}\n",
    "\n",
    "    **Relevant Legal Information Retrieved from our Database:**\n",
    "    {context}\n",
    "\n",
    "    **Analysis Request:**\n",
    "    Based on the feature description and the retrieved legal context ONLY, please provide a compliance analysis.\n",
    "    1. Identify which laws are most relevant to this feature.\n",
    "    2. Highlight specific parts of the feature that might have compliance implications.\n",
    "    3. List any potential risks or areas that require further legal review.\n",
    "    \"\"\"\n",
    "    \n",
    "    prompt = ChatPromptTemplate.from_template(prompt_template)\n",
    "    llm = ChatOpenAI(model_name=\"gpt-4\", temperature=0)\n",
    "    \n",
    "    # 4. Create the RAG chain\n",
    "    chain = (\n",
    "        {\"context\": retriever | format_docs, \"feature_description\": lambda x: x}\n",
    "        | prompt\n",
    "        | llm\n",
    "        | StrOutputParser()\n",
    "    )\n",
    "\n",
    "    # 5. Invoke the chain to get the analysis\n",
    "    print(\"Generating compliance analysis...\\n\")\n",
    "    analysis_result = chain.invoke(feature_description)\n",
    "\n",
    "    print(\"--- Compliance Analysis Result ---\")\n",
    "    print(analysis_result)"
   ]
  },
  {
   "cell_type": "code",
   "execution_count": null,
   "id": "fb159883",
   "metadata": {},
   "outputs": [],
   "source": [
    "if __name__ == \"__main__\":\n",
    "    main()"
   ]
  }
 ],
 "metadata": {
  "language_info": {
   "name": "python"
  }
 },
 "nbformat": 4,
 "nbformat_minor": 5
}
