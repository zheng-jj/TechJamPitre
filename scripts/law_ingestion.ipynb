{
 "cells": [
  {
   "cell_type": "code",
   "execution_count": null,
   "id": "d6d98273",
   "metadata": {},
   "outputs": [],
   "source": [
    "LANGSMITH_TRACING=\"true\"\n",
    "LANGSMITH_ENDPOINT=\"https://api.smith.langchain.com\"\n",
    "LANGSMITH_API_KEY=\"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\"\n",
    "LANGSMITH_PROJECT=\"TechJamPitre\""
   ]
  },
  {
   "cell_type": "code",
   "execution_count": 74,
   "id": "92458a85",
   "metadata": {},
   "outputs": [],
   "source": [
    "import os\n",
    "import json\n",
    "from dotenv import load_dotenv\n",
    "from langchain.schema import Document\n",
    "from langchain_community.vectorstores import FAISS\n",
    "from langchain_community.embeddings import OllamaEmbeddings\n",
    "from langchain.text_splitter import RecursiveCharacterTextSplitter"
   ]
  },
  {
   "cell_type": "code",
   "execution_count": 75,
   "id": "b43934ec",
   "metadata": {},
   "outputs": [
    {
     "data": {
      "text/plain": [
       "False"
      ]
     },
     "execution_count": 75,
     "metadata": {},
     "output_type": "execute_result"
    }
   ],
   "source": [
    "# Load environment variables from .env file\n",
    "load_dotenv()"
   ]
  },
  {
   "cell_type": "code",
   "execution_count": null,
   "id": "10ae1adf",
   "metadata": {},
   "outputs": [],
   "source": [
    "LAW_DATABASE_FILE = \"data/sample-file.json\"\n",
    "VECTOR_STORE_PATH = \"law_vector_store\""
   ]
  },
  {
   "cell_type": "code",
   "execution_count": null,
   "id": "87bdfb1c",
   "metadata": {},
   "outputs": [],
   "source": [
    "def process_law_json(item, source_file):\n",
    "    \n",
    "    # Create a descriptive text string from the JSON object\n",
    "    content = (\n",
    "        f\"Law Name: {item.get('law', 'N/A')}, applicable in {item.get('country', 'N/A')}, {item.get('region', 'N/A')}. \"\n",
    "        f\"Description: {item.get('law_desc', 'N/A')}. \"\n",
    "        f\"Relevant labels include: {', '.join(item.get('relevant_labels', []))}.\"\n",
    "    )\n",
    "    \n",
    "    # Create metadata to store structured information\n",
    "    metadata = {\n",
    "        \"law_id\": item.get('law_id'),\n",
    "        \"source_type\": \"law\",\n",
    "        \"source_file\": source_file,\n",
    "        \"law_name\": item.get('law'),\n",
    "        \"country\": item.get('country'),\n",
    "        \"region\": item.get('region')\n",
    "    }\n",
    "    return Document(page_content=content, metadata=metadata)"
   ]
  },
  {
   "cell_type": "code",
   "execution_count": null,
   "id": "fd2b4922",
   "metadata": {},
   "outputs": [],
   "source": [
    "def main():\n",
    "    \"\"\"Main function to run the data ingestion and vector store creation from a single JSON file.\"\"\"\n",
    "    print(f\"Starting data ingestion from '{LAW_DATABASE_FILE}'...\")\n",
    "    \n",
    "    all_docs = []\n",
    "\n",
    "    # Check if the database file exists\n",
    "    if not os.path.exists(LAW_DATABASE_FILE):\n",
    "        print(f\"Error: Law database file not found at '{LAW_DATABASE_FILE}'\")\n",
    "        return\n",
    "\n",
    "    # Load the entire list of laws from the single JSON file\n",
    "    with open(LAW_DATABASE_FILE, 'r', encoding='utf-8') as f:\n",
    "        law_data_list = json.load(f)\n",
    "\n",
    "    # Iterate through each law record in the list\n",
    "    for law_record in law_data_list:\n",
    "        doc = process_law_json(law_record, LAW_DATABASE_FILE)\n",
    "        all_docs.append(doc)\n",
    "\n",
    "    if not all_docs:\n",
    "        print(\"No law documents found in the file.\")\n",
    "        return\n",
    "\n",
    "    print(f\"Loaded {len(all_docs)} law documents.\")\n",
    "\n",
    "    # Split documents into smaller chunks for better retrieval performance\n",
    "    # This step remains the same\n",
    "    text_splitter = RecursiveCharacterTextSplitter(chunk_size=1000, chunk_overlap=150) # Adjust chunk size as needed, IMPORTANT\n",
    "    split_docs = text_splitter.split_documents(all_docs)\n",
    "    print(f\"Split documents into {len(split_docs)} chunks.\")\n",
    "\n",
    "    # Initialize the ByteDance Doubao embedding model\n",
    "    embeddings = OllamaEmbeddings(\n",
    "        model=\"mxbai-embed-large\"\n",
    "    )\n",
    "\n",
    "    # Create the vector store from the document chunks\n",
    "    print(\"Creating vector store with FAISS...\")\n",
    "    vector_store = FAISS.from_documents(split_docs, embeddings)\n",
    "\n",
    "    # Save the vector store locally for later use\n",
    "    vector_store.save_local(VECTOR_STORE_PATH)\n",
    "    print(f\"Vector store created and saved at '{VECTOR_STORE_PATH}'.\")\n",
    "    print(\"Ingestion complete.\")"
   ]
  },
  {
   "cell_type": "code",
   "execution_count": 78,
   "id": "486b40e5",
   "metadata": {},
   "outputs": [
    {
     "name": "stdout",
     "output_type": "stream",
     "text": [
      "Starting data ingestion from './sample-file.json'...\n",
      "Loaded 20 law documents.\n",
      "Split documents into 20 chunks.\n",
      "Creating vector store with FAISS...\n",
      "Vector store created and saved at 'vector_store'.\n",
      "Ingestion complete.\n"
     ]
    }
   ],
   "source": [
    "if __name__ == \"__main__\":\n",
    "    main()"
   ]
  },
  {
   "cell_type": "code",
   "execution_count": 79,
   "id": "c6d8b111",
   "metadata": {},
   "outputs": [
    {
     "data": {
      "text/plain": [
       "'\\nfrom langchain_text_splitters import RecursiveCharacterTextSplitter\\n\\ntext_splitter = RecursiveCharacterTextSplitter(\\n    chunk_size=1000,  # chunk size (characters)\\n    chunk_overlap=200,  # chunk overlap (characters)\\n    add_start_index=True,  # track index in original document\\n)\\nall_splits = text_splitter.split_documents(docs)\\n\\nprint(f\"Split blog post into {len(all_splits)} sub-documents.\")\\n'"
      ]
     },
     "execution_count": 79,
     "metadata": {},
     "output_type": "execute_result"
    }
   ],
   "source": [
    "\n",
    "\n",
    "'''\n",
    "from langchain_text_splitters import RecursiveCharacterTextSplitter\n",
    "\n",
    "text_splitter = RecursiveCharacterTextSplitter(\n",
    "    chunk_size=1000,  # chunk size (characters)\n",
    "    chunk_overlap=200,  # chunk overlap (characters)\n",
    "    add_start_index=True,  # track index in original document\n",
    ")\n",
    "all_splits = text_splitter.split_documents(docs)\n",
    "\n",
    "print(f\"Split blog post into {len(all_splits)} sub-documents.\")\n",
    "'''"
   ]
  }
 ],
 "metadata": {
  "kernelspec": {
   "display_name": "Python 3",
   "language": "python",
   "name": "python3"
  },
  "language_info": {
   "codemirror_mode": {
    "name": "ipython",
    "version": 3
   },
   "file_extension": ".py",
   "mimetype": "text/x-python",
   "name": "python",
   "nbconvert_exporter": "python",
   "pygments_lexer": "ipython3",
   "version": "3.11.0"
  }
 },
 "nbformat": 4,
 "nbformat_minor": 5
}
